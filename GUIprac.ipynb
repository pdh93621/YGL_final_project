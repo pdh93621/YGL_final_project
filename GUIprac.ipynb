{
 "cells": [
  {
   "cell_type": "code",
   "execution_count": 21,
   "source": [
    "from tkinter import *"
   ],
   "outputs": [],
   "metadata": {}
  },
  {
   "cell_type": "code",
   "execution_count": 22,
   "source": [
    "def findexe():\r\n",
    "    print(\"find your exe file\")\r\n",
    "\r\n",
    "\r\n",
    "win = Tk()\r\n",
    "win.geometry(\"500x700\")\r\n",
    "win.title(\"aMotion\")\r\n",
    "\r\n",
    "btn = Button(win)\r\n",
    "btn.config(text = \".exe\")\r\n",
    "btn.config(width = 5, height = 2)\r\n",
    "btn.config(command = findexe)\r\n",
    "btn.pack()\r\n",
    "\r\n",
    "win.mainloop()"
   ],
   "outputs": [
    {
     "output_type": "stream",
     "name": "stdout",
     "text": [
      "find your exe file\n",
      "find your exe file\n"
     ]
    }
   ],
   "metadata": {}
  },
  {
   "cell_type": "code",
   "execution_count": 23,
   "source": [
    "win2 = Tk()\r\n",
    "win2.geometry(\"300x100\")\r\n",
    "\r\n",
    "# 라벨\r\n",
    "lab1 = Label(win2)\r\n",
    "lab1.config(text = \"검색\")\r\n",
    "#img = PhotoImage(file = '경로', master = win)\r\n",
    "#img = img.subsample(8) -> 해당객체 8분의 1 크기로 변환 \r\n",
    "#lab1.config(image = img)\r\n",
    "lab1.pack()\r\n",
    "\r\n",
    "#입력창\r\n",
    "ent = Entry(win2)\r\n",
    "ent.pack()\r\n",
    "def ent_p():\r\n",
    "    a = ent.get()\r\n",
    "    print(a)\r\n",
    "\r\n",
    "#버튼\r\n",
    "btn = Button(win2)\r\n",
    "btn.config(text = 'This is lotto')\r\n",
    "btn.config(command = ent_p)\r\n",
    "btn.pack()\r\n",
    "\r\n",
    "win2.mainloop()"
   ],
   "outputs": [
    {
     "output_type": "stream",
     "name": "stdout",
     "text": [
      "asdfsdf\n"
     ]
    }
   ],
   "metadata": {}
  },
  {
   "cell_type": "code",
   "execution_count": null,
   "source": [],
   "outputs": [],
   "metadata": {}
  }
 ],
 "metadata": {
  "orig_nbformat": 4,
  "language_info": {
   "name": "python",
   "version": "3.8.5",
   "mimetype": "text/x-python",
   "codemirror_mode": {
    "name": "ipython",
    "version": 3
   },
   "pygments_lexer": "ipython3",
   "nbconvert_exporter": "python",
   "file_extension": ".py"
  },
  "kernelspec": {
   "name": "python3",
   "display_name": "Python 3.8.5 64-bit ('base': conda)"
  },
  "interpreter": {
   "hash": "b3ba2566441a7c06988d0923437866b63cedc61552a5af99d1f4fb67d367b25f"
  }
 },
 "nbformat": 4,
 "nbformat_minor": 2
}
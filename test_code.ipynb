{
  "nbformat": 4,
  "nbformat_minor": 0,
  "metadata": {
    "language_info": {
      "codemirror_mode": {
        "name": "ipython",
        "version": 3
      },
      "file_extension": ".py",
      "mimetype": "text/x-python",
      "name": "python",
      "nbconvert_exporter": "python",
      "pygments_lexer": "ipython3",
      "version": "3.8.5"
    },
    "orig_nbformat": 4,
    "kernelspec": {
      "name": "python3",
      "display_name": "Python 3.8.5 64-bit ('base': conda)"
    },
    "interpreter": {
      "hash": "8fac594bfae6525c0c41b4041d2d72effa188cc8ead05f81b1fab2bb098927fb"
    },
    "colab": {
      "name": "test_code.ipynb",
      "provenance": [],
      "include_colab_link": true
    }
  },
  "cells": [
    {
      "cell_type": "markdown",
      "metadata": {
        "id": "view-in-github",
        "colab_type": "text"
      },
      "source": [
        "<a href=\"https://colab.research.google.com/github/pdh93621/YGL_final_project/blob/Preprocessing/test_code.ipynb\" target=\"_parent\"><img src=\"https://colab.research.google.com/assets/colab-badge.svg\" alt=\"Open In Colab\"/></a>"
      ]
    },
    {
      "cell_type": "code",
      "metadata": {
        "id": "yDLth29QuV4A"
      },
      "source": [
        "import cv2\n",
        "import numpy as np"
      ],
      "execution_count": null,
      "outputs": []
    },
    {
      "cell_type": "code",
      "metadata": {
        "id": "_aArlpJCuV4C"
      },
      "source": [
        "def cont():\n",
        "    try:\n",
        "        cap=cv2.VideoCapture(0)\n",
        "    except:\n",
        "        print('camera_error')\n",
        "        return\n",
        "\n",
        "    while True:\n",
        "        ret, frame = cap.read()\n",
        "\n",
        "        if not ret:\n",
        "            print('camera2_error')\n",
        "            break\n",
        "        \n",
        "        dst = frame.copy()\n",
        "        test = cv2.cvtColor(frame, cv2.COLOR_BGR2YCrCb)\n",
        "        mask_hand = cv2.inRange(test, np.array([0,133,77]), np.array([255,173,127]))\n",
        "        #test = cv2.cvtColor(frame, cv2.COLOR_BGR2GRAY)\n",
        "        ret, thr = cv2.threshold(mask_hand, 127, 255, cv2.THRESH_BINARY_INV)\n",
        "        contours, hierachy = cv2.findContours(thr, cv2.RETR_CCOMP, cv2.CHAIN_APPROX_NONE)\n",
        "\n",
        "        for i in contours:\n",
        "            hull = cv2.convexHull(i,clockwise=True)\n",
        "            cv2.drawContours(dst, [hull], 0, (0,0,255), 2)\n",
        "\n",
        "        cv2.imshow('dst', dst)\n",
        "        cv2.imshow('mask_hand', mask_hand)\n",
        "\n",
        "        k = cv2.waitKey(1) & 0xFF\n",
        "        if k == 27:\n",
        "            break\n",
        "\n",
        "    cap.release()\n",
        "    cv2.destroyAllWindows()"
      ],
      "execution_count": null,
      "outputs": []
    },
    {
      "cell_type": "code",
      "metadata": {
        "id": "UCZdHNlTuV4D"
      },
      "source": [
        "cont()"
      ],
      "execution_count": null,
      "outputs": []
    },
    {
      "cell_type": "code",
      "metadata": {
        "id": "wJQ8SyDPuV4D"
      },
      "source": [
        ""
      ],
      "execution_count": null,
      "outputs": []
    }
  ]
}